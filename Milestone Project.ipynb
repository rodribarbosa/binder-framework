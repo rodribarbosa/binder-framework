{
 "cells": [
  {
   "cell_type": "code",
   "execution_count": 140,
   "id": "bceaea13-6f79-499f-a4ee-ec5b090ec846",
   "metadata": {},
   "outputs": [
    {
     "data": {
      "image/png": "[encoded data removed]",
      "text/plain": [
       "<Figure size 432x288 with 1 Axes>"
      ]
     },
     "metadata": {
      "needs_background": "light"
     },
     "output_type": "display_data"
    },
    {
     "data": {
      "image/png": "[encoded data removed]",
      "text/plain": [
       "<Figure size 432x288 with 1 Axes>"
      ]
     },
     "metadata": {
      "needs_background": "light"
     },
     "output_type": "display_data"
    },
    {
     "data": {
      "image/png": "[encoded data removed]",
      "text/plain": [
       "<Figure size 432x288 with 1 Axes>"
      ]
     },
     "metadata": {
      "needs_background": "light"
     },
     "output_type": "display_data"
    },
    {
     "data": {
      "image/png": "[encoded data removed]",
      "text/plain": [
       "<Figure size 432x288 with 1 Axes>"
      ]
     },
     "metadata": {
      "needs_background": "light"
     },
     "output_type": "display_data"
    },
    {
     "name": "stdout",
     "output_type": "stream",
     "text": [
      "Total number of companies: 439 \n",
      "Total jobs created in Queens: 102\n",
      "Number of distinct email domains: 320 \n",
      "Average total savings and jobs created per NTA:                                                   Total Savings  Job created\n",
      "NTA                                                                         \n",
      "Battery Park City-Lower Manhattan                     469890.80          0.0\n",
      "Bushwick South                                         26140.46         10.0\n",
      "Carroll Gardens-Columbia Street-Red Hook               24337.39          0.0\n",
      "College Point                                          17159.37          2.0\n",
      "Crown Heights North                                     4036.30          0.0\n",
      "DUMBO-Vinegar Hill-Downtown Brooklyn-Boerum Hill       59950.34          0.0\n",
      "East New York                                          60831.37         15.0\n",
      "East Williamsburg                                      13990.63          0.0\n",
      "Greenpoint                                              9753.65          0.0\n",
      "Hunters Point-Sunnyside-West Maspeth                   14333.91          0.0\n",
      "Hunts Point                                            39246.02         12.0\n",
      "Manhattanville                                          2760.89          0.0\n",
      "Maspeth                                                 6658.28         10.0\n",
      "Mott Haven-Port Morris                                 17843.94         10.0\n",
      "Queensbridge-Ravenswood-Long Island City               62110.52          0.0\n",
      "SoHo-TriBeCa-Civic Center-Little Italy                 37214.02          0.0\n",
      "Springfield Gardens South-Brookville                   17757.66          0.0\n",
      "Steinway                                               11227.16         20.0\n",
      "Sunset Park West                                       14316.98          0.0\n",
      "park-cemetery-etc-Brooklyn                             14327.42          0.0\n"
     ]
    }
   ],
   "source": [
    "import pandas as pd\n",
    "import numpy as np\n",
    "from collections import defaultdict\n",
    "import matplotlib.pyplot as plt\n",
    "\n",
    "    \n",
    "df = pd.read_csv(\"Value_of_Energy_Cost_Savings.csv\")\n",
    "\n",
    "class Milestone:\n",
    "    def __init__(self, data: pd.DataFrame):\n",
    "        self.companies = data\n",
    "\n",
    "    def NumberOfCompanies(self, data: pd.DataFrame) -> int:\n",
    "        name = [str(x).lower() for x in data['Company Name'].tolist()]\n",
    "        self.companies = data.assign(Lowercase = name)\n",
    "        self.companies.drop_duplicates(subset = \"Company Name\", keep = 'first', inplace = True)\n",
    "        #print(type(self.companies))\n",
    "        return len(self.companies.index)\n",
    "\n",
    "    def TotalJobs(self, data: pd.DataFrame, nbhd: str) -> int:\n",
    "        nbhd_data = data.loc[ data[\"Borough\"].str.contains(nbhd, case=False) ]\n",
    "        return int(nbhd_data[\"Job created\"].sum())\n",
    "\n",
    "    def EmailDomains(self, data: pd.DataFrame) -> int:\n",
    "        domains = data[\"company email\"]\n",
    "        domains = domains.dropna()\n",
    "        list_of_emails = domains.tolist()\n",
    "        counter = defaultdict(int)\n",
    "        for x in list_of_emails:\n",
    "            if '@' in x and '.' in x:\n",
    "                at = x.index('@')\n",
    "                dot = x.index('.')\n",
    "                dom = x[at+1:dot]\n",
    "                if dom not in counter:\n",
    "                    counter[dom] = 1\n",
    "                else:\n",
    "                    counter[dom] += 1\n",
    "        return len(counter)\n",
    "\n",
    "    def NTAs(self) -> pd.DataFrame:\n",
    "        self.companies = self.companies.dropna(subset=[\"NTA\"])\n",
    "        nta = [str(x).lower() for x in self.companies[\"NTA\"].tolist()]\n",
    "        self.companies.assign(Lowercase = nta)\n",
    "        counter = defaultdict(int)\n",
    "        for x in self.companies[\"NTA\"]:\n",
    "            if x not in counter:\n",
    "                counter[x] = 1\n",
    "            else:\n",
    "                counter[x] += 1\n",
    "        ntas_list = {x: v for x, v in counter.items() if v > 4}\n",
    "        self.companies = self.companies[(self.companies[\"NTA\"].isin(ntas_list.keys()))]\n",
    "        self.nta_answers = self.companies.groupby([\"NTA\"]).agg({\"Total Savings\" : \"mean\", \"Job created\" : \"sum\"})\n",
    "        self.nta_answers[\"Total Savings\"] = round(self.nta_answers[\"Total Savings\"], 2)\n",
    "        self.nta_answers.to_csv(\"Savings_and_Jobs_per_NTA.csv\", header=[\"Total Average Savings\", \"Jobs Created\"])\n",
    "        return(self.nta_answers)\n",
    "    \n",
    "    def linear_plot(self):\n",
    "        plt.scatter(self.nta_answers['Job created'], self.nta_answers['Total Savings'])\n",
    "        plt.savefig('Linear_Plot_Average_Savings_vs_Jobs_Created.png')\n",
    "        plt.show()\n",
    "        \n",
    "    def log_plot(self):\n",
    "        plt.scatter(self.nta_answers['Job created'], self.nta_answers['Total Savings'])\n",
    "        plt.savefig('Log_Plot_Average_Savings_vs_Jobs_Created.png')\n",
    "        plt.yscale(\"log\")\n",
    "        plt.show()\n",
    "        \n",
    "    def histogram(self):\n",
    "        plt.hist(self.nta_answers['Total Savings'], bins=100)\n",
    "        plt.xscale(\"log\")\n",
    "        plt.savefig('Histogram_Log_Average_Savings.png')\n",
    "        plt.show()\n",
    "        \n",
    "    def linear_per_month(self, data: pd.DataFrame):\n",
    "        data['Effective Date'] = data['Effective Date'].apply(lambda x: str(x)[-4:]+'/'+str(x)[0:2])\n",
    "        subdata = data[['Effective Date', 'Job created']]\n",
    "        subdata = subdata.dropna()\n",
    "        #print(subdata)\n",
    "        plt.plot(subdata.groupby(['Effective Date']).sum())\n",
    "        plt.savefig(\"Line_Plot_Jobs_per_Month.png\")\n",
    "        plt.show()\n",
    "        \n",
    "        \n",
    "s = Milestone(df)\n",
    "s.NumberOfCompanies(df)\n",
    "s.NTAs()\n",
    "s.linear_plot()\n",
    "s.log_plot()\n",
    "s.histogram()\n",
    "s.linear_per_month(df)\n",
    "\n",
    "\n",
    "\n",
    "print(\"Total number of companies:\", s.NumberOfCompanies(df), \"\\nTotal jobs created in Queens:\", s.TotalJobs(df, \"Queens\"))\n",
    "print(\"Number of distinct email domains:\", s.EmailDomains(df), \"\\nAverage total savings and jobs created per NTA:\", s.NTAs())"
   ]
  },
  {
   "cell_type": "code",
   "execution_count": null,
   "id": "a5ec3d26-b490-43d8-be0c-7e54314d29ea",
   "metadata": {},
   "outputs": [],
   "source": [
    "\n",
    "\n"
   ]
  },
  {
   "cell_type": "code",
   "execution_count": null,
   "id": "043cb7e5-670b-4738-a5bf-bf5f7aa5b2ce",
   "metadata": {},
   "outputs": [],
   "source": []
  },
  {
   "cell_type": "code",
   "execution_count": null,
   "id": "a2d7cd34-f04b-4a97-a0f5-6d7895f8057c",
   "metadata": {},
   "outputs": [],
   "source": []
  }
 ],
 "metadata": {
  "kernelspec": {
   "display_name": "Python 3 (ipykernel)",
   "language": "python",
   "name": "python3"
  },
  "language_info": {
   "codemirror_mode": {
    "name": "ipython",
    "version": 3
   },
   "file_extension": ".py",
   "mimetype": "text/x-python",
   "name": "python",
   "nbconvert_exporter": "python",
   "pygments_lexer": "ipython3",
   "version": "3.9.7"
  }
 },
 "nbformat": 4,
 "nbformat_minor": 5
}
